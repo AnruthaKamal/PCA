{
 "cells": [
  {
   "cell_type": "code",
   "execution_count": 57,
   "id": "a770faa6",
   "metadata": {},
   "outputs": [],
   "source": [
    "import pandas as pd\n",
    "import numpy as np"
   ]
  },
  {
   "cell_type": "code",
   "execution_count": 16,
   "id": "82ee1dd7",
   "metadata": {},
   "outputs": [],
   "source": [
    "from sklearn.model_selection import train_test_split"
   ]
  },
  {
   "cell_type": "code",
   "execution_count": 100,
   "id": "4df7a16b",
   "metadata": {},
   "outputs": [],
   "source": [
    "df = pd.read_csv(r'C:\\Users\\anrut\\Downloads\\data.csv')\n",
    "df = df.drop(columns = ['Unnamed: 32'])"
   ]
  },
  {
   "cell_type": "markdown",
   "id": "1354b1f0",
   "metadata": {},
   "source": [
    "# EDA \n",
    "\n",
    "1.outlier detection"
   ]
  },
  {
   "cell_type": "code",
   "execution_count": 19,
   "id": "7eb9afb6",
   "metadata": {},
   "outputs": [
    {
     "data": {
      "text/html": [
       "<div>\n",
       "<style scoped>\n",
       "    .dataframe tbody tr th:only-of-type {\n",
       "        vertical-align: middle;\n",
       "    }\n",
       "\n",
       "    .dataframe tbody tr th {\n",
       "        vertical-align: top;\n",
       "    }\n",
       "\n",
       "    .dataframe thead th {\n",
       "        text-align: right;\n",
       "    }\n",
       "</style>\n",
       "<table border=\"1\" class=\"dataframe\">\n",
       "  <thead>\n",
       "    <tr style=\"text-align: right;\">\n",
       "      <th></th>\n",
       "      <th>id</th>\n",
       "      <th>diagnosis</th>\n",
       "      <th>radius_mean</th>\n",
       "      <th>texture_mean</th>\n",
       "      <th>perimeter_mean</th>\n",
       "      <th>area_mean</th>\n",
       "      <th>smoothness_mean</th>\n",
       "      <th>compactness_mean</th>\n",
       "      <th>concavity_mean</th>\n",
       "      <th>concave points_mean</th>\n",
       "      <th>...</th>\n",
       "      <th>texture_worst</th>\n",
       "      <th>perimeter_worst</th>\n",
       "      <th>area_worst</th>\n",
       "      <th>smoothness_worst</th>\n",
       "      <th>compactness_worst</th>\n",
       "      <th>concavity_worst</th>\n",
       "      <th>concave points_worst</th>\n",
       "      <th>symmetry_worst</th>\n",
       "      <th>fractal_dimension_worst</th>\n",
       "      <th>Unnamed: 32</th>\n",
       "    </tr>\n",
       "  </thead>\n",
       "  <tbody>\n",
       "    <tr>\n",
       "      <th>0</th>\n",
       "      <td>842302</td>\n",
       "      <td>M</td>\n",
       "      <td>17.99</td>\n",
       "      <td>10.38</td>\n",
       "      <td>122.80</td>\n",
       "      <td>1001.0</td>\n",
       "      <td>0.11840</td>\n",
       "      <td>0.27760</td>\n",
       "      <td>0.3001</td>\n",
       "      <td>0.14710</td>\n",
       "      <td>...</td>\n",
       "      <td>17.33</td>\n",
       "      <td>184.60</td>\n",
       "      <td>2019.0</td>\n",
       "      <td>0.1622</td>\n",
       "      <td>0.6656</td>\n",
       "      <td>0.7119</td>\n",
       "      <td>0.2654</td>\n",
       "      <td>0.4601</td>\n",
       "      <td>0.11890</td>\n",
       "      <td>NaN</td>\n",
       "    </tr>\n",
       "    <tr>\n",
       "      <th>1</th>\n",
       "      <td>842517</td>\n",
       "      <td>M</td>\n",
       "      <td>20.57</td>\n",
       "      <td>17.77</td>\n",
       "      <td>132.90</td>\n",
       "      <td>1326.0</td>\n",
       "      <td>0.08474</td>\n",
       "      <td>0.07864</td>\n",
       "      <td>0.0869</td>\n",
       "      <td>0.07017</td>\n",
       "      <td>...</td>\n",
       "      <td>23.41</td>\n",
       "      <td>158.80</td>\n",
       "      <td>1956.0</td>\n",
       "      <td>0.1238</td>\n",
       "      <td>0.1866</td>\n",
       "      <td>0.2416</td>\n",
       "      <td>0.1860</td>\n",
       "      <td>0.2750</td>\n",
       "      <td>0.08902</td>\n",
       "      <td>NaN</td>\n",
       "    </tr>\n",
       "    <tr>\n",
       "      <th>2</th>\n",
       "      <td>84300903</td>\n",
       "      <td>M</td>\n",
       "      <td>19.69</td>\n",
       "      <td>21.25</td>\n",
       "      <td>130.00</td>\n",
       "      <td>1203.0</td>\n",
       "      <td>0.10960</td>\n",
       "      <td>0.15990</td>\n",
       "      <td>0.1974</td>\n",
       "      <td>0.12790</td>\n",
       "      <td>...</td>\n",
       "      <td>25.53</td>\n",
       "      <td>152.50</td>\n",
       "      <td>1709.0</td>\n",
       "      <td>0.1444</td>\n",
       "      <td>0.4245</td>\n",
       "      <td>0.4504</td>\n",
       "      <td>0.2430</td>\n",
       "      <td>0.3613</td>\n",
       "      <td>0.08758</td>\n",
       "      <td>NaN</td>\n",
       "    </tr>\n",
       "    <tr>\n",
       "      <th>3</th>\n",
       "      <td>84348301</td>\n",
       "      <td>M</td>\n",
       "      <td>11.42</td>\n",
       "      <td>20.38</td>\n",
       "      <td>77.58</td>\n",
       "      <td>386.1</td>\n",
       "      <td>0.14250</td>\n",
       "      <td>0.28390</td>\n",
       "      <td>0.2414</td>\n",
       "      <td>0.10520</td>\n",
       "      <td>...</td>\n",
       "      <td>26.50</td>\n",
       "      <td>98.87</td>\n",
       "      <td>567.7</td>\n",
       "      <td>0.2098</td>\n",
       "      <td>0.8663</td>\n",
       "      <td>0.6869</td>\n",
       "      <td>0.2575</td>\n",
       "      <td>0.6638</td>\n",
       "      <td>0.17300</td>\n",
       "      <td>NaN</td>\n",
       "    </tr>\n",
       "    <tr>\n",
       "      <th>4</th>\n",
       "      <td>84358402</td>\n",
       "      <td>M</td>\n",
       "      <td>20.29</td>\n",
       "      <td>14.34</td>\n",
       "      <td>135.10</td>\n",
       "      <td>1297.0</td>\n",
       "      <td>0.10030</td>\n",
       "      <td>0.13280</td>\n",
       "      <td>0.1980</td>\n",
       "      <td>0.10430</td>\n",
       "      <td>...</td>\n",
       "      <td>16.67</td>\n",
       "      <td>152.20</td>\n",
       "      <td>1575.0</td>\n",
       "      <td>0.1374</td>\n",
       "      <td>0.2050</td>\n",
       "      <td>0.4000</td>\n",
       "      <td>0.1625</td>\n",
       "      <td>0.2364</td>\n",
       "      <td>0.07678</td>\n",
       "      <td>NaN</td>\n",
       "    </tr>\n",
       "  </tbody>\n",
       "</table>\n",
       "<p>5 rows × 33 columns</p>\n",
       "</div>"
      ],
      "text/plain": [
       "         id diagnosis  radius_mean  texture_mean  perimeter_mean  area_mean  \\\n",
       "0    842302         M        17.99         10.38          122.80     1001.0   \n",
       "1    842517         M        20.57         17.77          132.90     1326.0   \n",
       "2  84300903         M        19.69         21.25          130.00     1203.0   \n",
       "3  84348301         M        11.42         20.38           77.58      386.1   \n",
       "4  84358402         M        20.29         14.34          135.10     1297.0   \n",
       "\n",
       "   smoothness_mean  compactness_mean  concavity_mean  concave points_mean  \\\n",
       "0          0.11840           0.27760          0.3001              0.14710   \n",
       "1          0.08474           0.07864          0.0869              0.07017   \n",
       "2          0.10960           0.15990          0.1974              0.12790   \n",
       "3          0.14250           0.28390          0.2414              0.10520   \n",
       "4          0.10030           0.13280          0.1980              0.10430   \n",
       "\n",
       "   ...  texture_worst  perimeter_worst  area_worst  smoothness_worst  \\\n",
       "0  ...          17.33           184.60      2019.0            0.1622   \n",
       "1  ...          23.41           158.80      1956.0            0.1238   \n",
       "2  ...          25.53           152.50      1709.0            0.1444   \n",
       "3  ...          26.50            98.87       567.7            0.2098   \n",
       "4  ...          16.67           152.20      1575.0            0.1374   \n",
       "\n",
       "   compactness_worst  concavity_worst  concave points_worst  symmetry_worst  \\\n",
       "0             0.6656           0.7119                0.2654          0.4601   \n",
       "1             0.1866           0.2416                0.1860          0.2750   \n",
       "2             0.4245           0.4504                0.2430          0.3613   \n",
       "3             0.8663           0.6869                0.2575          0.6638   \n",
       "4             0.2050           0.4000                0.1625          0.2364   \n",
       "\n",
       "   fractal_dimension_worst  Unnamed: 32  \n",
       "0                  0.11890          NaN  \n",
       "1                  0.08902          NaN  \n",
       "2                  0.08758          NaN  \n",
       "3                  0.17300          NaN  \n",
       "4                  0.07678          NaN  \n",
       "\n",
       "[5 rows x 33 columns]"
      ]
     },
     "execution_count": 19,
     "metadata": {},
     "output_type": "execute_result"
    }
   ],
   "source": [
    "df.head()"
   ]
  },
  {
   "cell_type": "code",
   "execution_count": 26,
   "id": "bd09be4c",
   "metadata": {},
   "outputs": [
    {
     "data": {
      "text/plain": [
       "(569, 32)"
      ]
     },
     "execution_count": 26,
     "metadata": {},
     "output_type": "execute_result"
    }
   ],
   "source": [
    "df.shape"
   ]
  },
  {
   "cell_type": "code",
   "execution_count": 27,
   "id": "dab39f23",
   "metadata": {},
   "outputs": [
    {
     "name": "stdout",
     "output_type": "stream",
     "text": [
      "<class 'pandas.core.frame.DataFrame'>\n",
      "RangeIndex: 569 entries, 0 to 568\n",
      "Data columns (total 32 columns):\n",
      " #   Column                   Non-Null Count  Dtype  \n",
      "---  ------                   --------------  -----  \n",
      " 0   id                       569 non-null    int64  \n",
      " 1   diagnosis                569 non-null    object \n",
      " 2   radius_mean              569 non-null    float64\n",
      " 3   texture_mean             569 non-null    float64\n",
      " 4   perimeter_mean           569 non-null    float64\n",
      " 5   area_mean                569 non-null    float64\n",
      " 6   smoothness_mean          569 non-null    float64\n",
      " 7   compactness_mean         569 non-null    float64\n",
      " 8   concavity_mean           569 non-null    float64\n",
      " 9   concave points_mean      569 non-null    float64\n",
      " 10  symmetry_mean            569 non-null    float64\n",
      " 11  fractal_dimension_mean   569 non-null    float64\n",
      " 12  radius_se                569 non-null    float64\n",
      " 13  texture_se               569 non-null    float64\n",
      " 14  perimeter_se             569 non-null    float64\n",
      " 15  area_se                  569 non-null    float64\n",
      " 16  smoothness_se            569 non-null    float64\n",
      " 17  compactness_se           569 non-null    float64\n",
      " 18  concavity_se             569 non-null    float64\n",
      " 19  concave points_se        569 non-null    float64\n",
      " 20  symmetry_se              569 non-null    float64\n",
      " 21  fractal_dimension_se     569 non-null    float64\n",
      " 22  radius_worst             569 non-null    float64\n",
      " 23  texture_worst            569 non-null    float64\n",
      " 24  perimeter_worst          569 non-null    float64\n",
      " 25  area_worst               569 non-null    float64\n",
      " 26  smoothness_worst         569 non-null    float64\n",
      " 27  compactness_worst        569 non-null    float64\n",
      " 28  concavity_worst          569 non-null    float64\n",
      " 29  concave points_worst     569 non-null    float64\n",
      " 30  symmetry_worst           569 non-null    float64\n",
      " 31  fractal_dimension_worst  569 non-null    float64\n",
      "dtypes: float64(30), int64(1), object(1)\n",
      "memory usage: 142.4+ KB\n"
     ]
    }
   ],
   "source": [
    "df.info()"
   ]
  },
  {
   "cell_type": "code",
   "execution_count": 28,
   "id": "172c3919",
   "metadata": {},
   "outputs": [
    {
     "data": {
      "text/plain": [
       "id                         0\n",
       "diagnosis                  0\n",
       "radius_mean                0\n",
       "texture_mean               0\n",
       "perimeter_mean             0\n",
       "area_mean                  0\n",
       "smoothness_mean            0\n",
       "compactness_mean           0\n",
       "concavity_mean             0\n",
       "concave points_mean        0\n",
       "symmetry_mean              0\n",
       "fractal_dimension_mean     0\n",
       "radius_se                  0\n",
       "texture_se                 0\n",
       "perimeter_se               0\n",
       "area_se                    0\n",
       "smoothness_se              0\n",
       "compactness_se             0\n",
       "concavity_se               0\n",
       "concave points_se          0\n",
       "symmetry_se                0\n",
       "fractal_dimension_se       0\n",
       "radius_worst               0\n",
       "texture_worst              0\n",
       "perimeter_worst            0\n",
       "area_worst                 0\n",
       "smoothness_worst           0\n",
       "compactness_worst          0\n",
       "concavity_worst            0\n",
       "concave points_worst       0\n",
       "symmetry_worst             0\n",
       "fractal_dimension_worst    0\n",
       "dtype: int64"
      ]
     },
     "execution_count": 28,
     "metadata": {},
     "output_type": "execute_result"
    }
   ],
   "source": [
    "df.isnull().sum()"
   ]
  },
  {
   "cell_type": "markdown",
   "id": "2f51a941",
   "metadata": {},
   "source": [
    "No null values in the data set "
   ]
  },
  {
   "cell_type": "code",
   "execution_count": 102,
   "id": "e7b9c7d0",
   "metadata": {},
   "outputs": [],
   "source": [
    "df['diagnosis'] = df['diagnosis'].apply(lambda x : 1 if x=='M' else 0)\n",
    "x = df.drop(columns = ['id','diagnosis'])\n",
    "y = df['diagnosis']"
   ]
  },
  {
   "cell_type": "code",
   "execution_count": 104,
   "id": "dc3ba815",
   "metadata": {},
   "outputs": [
    {
     "data": {
      "text/plain": [
       "0    357\n",
       "1    212\n",
       "Name: diagnosis, dtype: int64"
      ]
     },
     "execution_count": 104,
     "metadata": {},
     "output_type": "execute_result"
    }
   ],
   "source": [
    "y.value_counts()\n"
   ]
  },
  {
   "cell_type": "code",
   "execution_count": null,
   "id": "13ed22d0",
   "metadata": {},
   "outputs": [],
   "source": []
  },
  {
   "cell_type": "markdown",
   "id": "9d771058",
   "metadata": {},
   "source": [
    "Outlier Detection "
   ]
  },
  {
   "cell_type": "code",
   "execution_count": 31,
   "id": "1980a886",
   "metadata": {},
   "outputs": [],
   "source": [
    "q1 = x.quantile(0.25)\n",
    "q3 = x.quantile(0.75)\n",
    "iqr = q3-q1\n",
    "lb = q1 - 1.5*iqr\n",
    "ub = q3 + 1.5*iqr"
   ]
  },
  {
   "cell_type": "code",
   "execution_count": 48,
   "id": "3d7cbb9a",
   "metadata": {},
   "outputs": [
    {
     "data": {
      "text/plain": [
       "Index(['radius_mean', 'texture_mean', 'perimeter_mean', 'area_mean',\n",
       "       'smoothness_mean', 'compactness_mean', 'concavity_mean',\n",
       "       'concave points_mean', 'symmetry_mean', 'fractal_dimension_mean',\n",
       "       'radius_se', 'texture_se', 'perimeter_se', 'area_se', 'smoothness_se',\n",
       "       'compactness_se', 'concavity_se', 'concave points_se', 'symmetry_se',\n",
       "       'fractal_dimension_se', 'radius_worst', 'texture_worst',\n",
       "       'perimeter_worst', 'area_worst', 'smoothness_worst',\n",
       "       'compactness_worst', 'concavity_worst', 'concave points_worst',\n",
       "       'symmetry_worst', 'fractal_dimension_worst'],\n",
       "      dtype='object')"
      ]
     },
     "execution_count": 48,
     "metadata": {},
     "output_type": "execute_result"
    }
   ],
   "source": [
    "lb.index"
   ]
  },
  {
   "cell_type": "code",
   "execution_count": 36,
   "id": "ef49ab5d",
   "metadata": {},
   "outputs": [],
   "source": [
    "outliers_per = ((x <lb ) | (x > ub)).sum()/len(x)*100"
   ]
  },
  {
   "cell_type": "code",
   "execution_count": 44,
   "id": "9d57c196",
   "metadata": {},
   "outputs": [
    {
     "name": "stdout",
     "output_type": "stream",
     "text": [
      "radius_mean outliers percentage : 2.4605\n",
      "texture_mean outliers percentage : 1.2302\n",
      "perimeter_mean outliers percentage : 2.2847\n",
      "area_mean outliers percentage : 4.3937\n",
      "smoothness_mean outliers percentage : 1.0545\n",
      "compactness_mean outliers percentage : 2.812\n",
      "concavity_mean outliers percentage : 3.1634\n",
      "concave points_mean outliers percentage : 1.7575\n",
      "symmetry_mean outliers percentage : 2.6362\n",
      "fractal_dimension_mean outliers percentage : 2.6362\n",
      "radius_se outliers percentage : 6.6784\n",
      "texture_se outliers percentage : 3.5149\n",
      "perimeter_se outliers percentage : 6.6784\n",
      "area_se outliers percentage : 11.4236\n",
      "smoothness_se outliers percentage : 5.2724\n",
      "compactness_se outliers percentage : 4.9209\n",
      "concavity_se outliers percentage : 3.8664\n",
      "concave points_se outliers percentage : 3.3392\n",
      "symmetry_se outliers percentage : 4.7452\n",
      "fractal_dimension_se outliers percentage : 4.9209\n",
      "radius_worst outliers percentage : 2.9877\n",
      "texture_worst outliers percentage : 0.8787\n",
      "perimeter_worst outliers percentage : 2.6362\n",
      "area_worst outliers percentage : 6.1511\n",
      "smoothness_worst outliers percentage : 1.2302\n",
      "compactness_worst outliers percentage : 2.812\n",
      "concavity_worst outliers percentage : 2.109\n",
      "concave points_worst outliers percentage : 0.0\n",
      "symmetry_worst outliers percentage : 4.0422\n",
      "fractal_dimension_worst outliers percentage : 4.2179\n"
     ]
    }
   ],
   "source": [
    "for i in outliers_per.index:\n",
    "    print('{} outliers percentage : {}'.format(i,round(outliers_per[i],4)))"
   ]
  },
  {
   "cell_type": "markdown",
   "id": "5f930f30",
   "metadata": {},
   "source": [
    "Replacing outliers with median "
   ]
  },
  {
   "cell_type": "code",
   "execution_count": 52,
   "id": "e712ef21",
   "metadata": {},
   "outputs": [],
   "source": [
    "for i in x.columns:\n",
    "    x[i] = x[i].apply(lambda y : y if y > lb[i] and y < ub[i] else x[i].median())\n"
   ]
  },
  {
   "cell_type": "code",
   "execution_count": 53,
   "id": "a3396713",
   "metadata": {},
   "outputs": [],
   "source": [
    "outliers_per = ((x <lb ) | (x > ub)).sum()/len(x)*100"
   ]
  },
  {
   "cell_type": "code",
   "execution_count": 54,
   "id": "d63d37cf",
   "metadata": {},
   "outputs": [
    {
     "data": {
      "text/plain": [
       "radius_mean                0.0\n",
       "texture_mean               0.0\n",
       "perimeter_mean             0.0\n",
       "area_mean                  0.0\n",
       "smoothness_mean            0.0\n",
       "compactness_mean           0.0\n",
       "concavity_mean             0.0\n",
       "concave points_mean        0.0\n",
       "symmetry_mean              0.0\n",
       "fractal_dimension_mean     0.0\n",
       "radius_se                  0.0\n",
       "texture_se                 0.0\n",
       "perimeter_se               0.0\n",
       "area_se                    0.0\n",
       "smoothness_se              0.0\n",
       "compactness_se             0.0\n",
       "concavity_se               0.0\n",
       "concave points_se          0.0\n",
       "symmetry_se                0.0\n",
       "fractal_dimension_se       0.0\n",
       "radius_worst               0.0\n",
       "texture_worst              0.0\n",
       "perimeter_worst            0.0\n",
       "area_worst                 0.0\n",
       "smoothness_worst           0.0\n",
       "compactness_worst          0.0\n",
       "concavity_worst            0.0\n",
       "concave points_worst       0.0\n",
       "symmetry_worst             0.0\n",
       "fractal_dimension_worst    0.0\n",
       "dtype: float64"
      ]
     },
     "execution_count": 54,
     "metadata": {},
     "output_type": "execute_result"
    }
   ],
   "source": [
    "outliers_per"
   ]
  },
  {
   "cell_type": "code",
   "execution_count": 67,
   "id": "25479ce4",
   "metadata": {},
   "outputs": [],
   "source": [
    "\n",
    "def scale_data(df):\n",
    "  return df.apply(lambda c: c-c.mean())\n",
    "\n",
    "def calc_cov(df):\n",
    "  return df.cov().to_numpy()\n",
    "\n",
    "def calc_eig(m):\n",
    "  return np.linalg.eig(m)\n",
    "\n",
    "def explainedVar(x):\n",
    "  expV = {}\n",
    "  nr = 0 \n",
    "  dr = x.sum()\n",
    "  for i in range(len(x)):\n",
    "    nr = x[i]\n",
    "    expV[x[i]] = nr/dr\n",
    "  return expV\n"
   ]
  },
  {
   "cell_type": "code",
   "execution_count": 71,
   "id": "dc7a8e91",
   "metadata": {},
   "outputs": [],
   "source": [
    "val.sort()"
   ]
  },
  {
   "cell_type": "code",
   "execution_count": 72,
   "id": "f6fd26cd",
   "metadata": {},
   "outputs": [
    {
     "data": {
      "text/plain": [
       "array([6.72338288e-07, 1.88654713e-06, 6.30415514e-06, 9.39763088e-06,\n",
       "       1.46136329e-05, 3.36091539e-05, 3.73921492e-05, 7.41985692e-05,\n",
       "       1.16071194e-04, 1.48165312e-04, 2.27120874e-04, 2.77033703e-04,\n",
       "       3.44815046e-04, 6.67556355e-04, 1.34356554e-03, 1.91128267e-03,\n",
       "       3.48452333e-03, 4.23103245e-03, 2.31407626e-02, 1.04460155e-01,\n",
       "       1.54287157e-01, 4.67550436e-01, 6.98033884e-01, 2.32655399e+00,\n",
       "       3.90597185e+01, 4.69087033e+01, 1.38003696e+02, 2.01704390e+02,\n",
       "       1.03196243e+04, 2.11688712e+05])"
      ]
     },
     "execution_count": 72,
     "metadata": {},
     "output_type": "execute_result"
    }
   ],
   "source": [
    "val"
   ]
  },
  {
   "cell_type": "code",
   "execution_count": null,
   "id": "6479cb7b",
   "metadata": {},
   "outputs": [],
   "source": []
  },
  {
   "cell_type": "code",
   "execution_count": null,
   "id": "a4ef2c82",
   "metadata": {},
   "outputs": [],
   "source": []
  },
  {
   "cell_type": "code",
   "execution_count": 68,
   "id": "5f222d3e",
   "metadata": {},
   "outputs": [],
   "source": [
    "x_new = scale_data(x)\n",
    "covv = calc_cov(x_new)\n",
    "val , vec = calc_eig(covv)\n",
    "expv = explainedVar(val)\n"
   ]
  },
  {
   "cell_type": "code",
   "execution_count": 69,
   "id": "02dfd7d2",
   "metadata": {},
   "outputs": [
    {
     "name": "stdout",
     "output_type": "stream",
     "text": [
      "211688.7123129387 0.9516759841735432\n",
      "10319.624308076707 0.04639330322521807\n",
      "201.70438979211434 0.0009067900766658011\n",
      "138.0036964422926 0.0006204147693862577\n",
      "46.90870328475021 0.0002108845855646069\n",
      "39.05971847062693 0.0001755983850576023\n",
      "2.3265539908020187 1.0459346342738678e-05\n",
      "0.6980338837394277 3.13810819687053e-06\n",
      "0.46755043577258953 2.1019378702482278e-06\n",
      "0.1542871566748055 6.936193246656102e-07\n",
      "0.1044601551747953 4.6961512447547796e-07\n",
      "0.02314076264635965 1.0403250993111473e-07\n",
      "0.004231032454709187 1.9021193579056307e-08\n",
      "0.003484523334986981 1.5665158231475174e-08\n",
      "0.001911282668328301 8.592436481574254e-09\n",
      "0.0013435655439125334 6.04018536148689e-09\n",
      "0.0006675563546384601 3.0010922351528193e-09\n",
      "0.00034481504622207835 1.5501638934159887e-09\n",
      "0.0002770337030981493 1.2454434587680089e-09\n",
      "0.00022712087417005176 1.0210534094638563e-09\n",
      "0.00014816531173527867 6.660977211557855e-10\n",
      "0.00011607119429707418 5.218141622193382e-10\n",
      "7.419856918679928e-05 3.3356996499052337e-10\n",
      "3.7392149157661554e-05 1.681015957873842e-10\n",
      "3.360915393885313e-05 1.5109461578052783e-10\n",
      "1.4613632852258384e-05 6.569761455426349e-11\n",
      "9.397630879458509e-06 4.2248353813439096e-11\n",
      "6.304155138806258e-06 2.8341204311532138e-11\n",
      "1.8865471327326197e-06 8.481234448528297e-12\n",
      "6.72338288436923e-07 3.0225900821763173e-12\n"
     ]
    }
   ],
   "source": [
    "for i in expv:\n",
    "    print(i,expv[i])"
   ]
  },
  {
   "cell_type": "code",
   "execution_count": 78,
   "id": "a198f68a",
   "metadata": {},
   "outputs": [],
   "source": [
    "W = np.array(vec.T[0])"
   ]
  },
  {
   "cell_type": "code",
   "execution_count": 80,
   "id": "3b18905f",
   "metadata": {},
   "outputs": [
    {
     "data": {
      "text/plain": [
       "array([-6.04609344e-03, -2.90874855e-03, -4.15317878e-02, -5.52448649e-01,\n",
       "       -4.35918111e-06, -4.19802337e-05, -8.36307310e-05, -5.35045190e-05,\n",
       "       -8.59162233e-06,  2.83654690e-06, -1.95447539e-04,  7.18463065e-05,\n",
       "       -1.27823501e-03, -2.01793508e-02,  6.51229610e-07, -7.10924803e-06,\n",
       "       -1.34669552e-05, -3.58143880e-06,  2.29151646e-06, -2.11171866e-07,\n",
       "       -8.16074969e-03, -4.12418748e-03, -5.64059030e-02, -8.30274889e-01,\n",
       "       -8.12709117e-06, -1.18722479e-04, -2.07398174e-04, -9.09518895e-05,\n",
       "       -2.25828408e-05, -2.85567158e-06])"
      ]
     },
     "execution_count": 80,
     "metadata": {},
     "output_type": "execute_result"
    }
   ],
   "source": [
    "W"
   ]
  },
  {
   "cell_type": "code",
   "execution_count": 75,
   "id": "aef19304",
   "metadata": {},
   "outputs": [
    {
     "data": {
      "text/plain": [
       "(569, 30)"
      ]
     },
     "execution_count": 75,
     "metadata": {},
     "output_type": "execute_result"
    }
   ],
   "source": [
    "x_new.shape"
   ]
  },
  {
   "cell_type": "code",
   "execution_count": 88,
   "id": "02174e99",
   "metadata": {},
   "outputs": [],
   "source": [
    "wTx = W.T.dot(x_new.to_numpy().T)"
   ]
  },
  {
   "cell_type": "code",
   "execution_count": 92,
   "id": "5578874b",
   "metadata": {},
   "outputs": [],
   "source": [
    "``df_new = pd.DataFrame(wTx,columns=['PC1'])"
   ]
  },
  {
   "cell_type": "code",
   "execution_count": 93,
   "id": "88c817b5",
   "metadata": {},
   "outputs": [
    {
     "data": {
      "text/html": [
       "<div>\n",
       "<style scoped>\n",
       "    .dataframe tbody tr th:only-of-type {\n",
       "        vertical-align: middle;\n",
       "    }\n",
       "\n",
       "    .dataframe tbody tr th {\n",
       "        vertical-align: top;\n",
       "    }\n",
       "\n",
       "    .dataframe thead th {\n",
       "        text-align: right;\n",
       "    }\n",
       "</style>\n",
       "<table border=\"1\" class=\"dataframe\">\n",
       "  <thead>\n",
       "    <tr style=\"text-align: right;\">\n",
       "      <th></th>\n",
       "      <th>PC1</th>\n",
       "    </tr>\n",
       "  </thead>\n",
       "  <tbody>\n",
       "    <tr>\n",
       "      <th>0</th>\n",
       "      <td>-152.432800</td>\n",
       "    </tr>\n",
       "    <tr>\n",
       "      <th>1</th>\n",
       "      <td>-332.003047</td>\n",
       "    </tr>\n",
       "    <tr>\n",
       "      <th>2</th>\n",
       "      <td>-1111.535856</td>\n",
       "    </tr>\n",
       "    <tr>\n",
       "      <th>3</th>\n",
       "      <td>292.620550</td>\n",
       "    </tr>\n",
       "    <tr>\n",
       "      <th>4</th>\n",
       "      <td>-1052.343710</td>\n",
       "    </tr>\n",
       "  </tbody>\n",
       "</table>\n",
       "</div>"
      ],
      "text/plain": [
       "           PC1\n",
       "0  -152.432800\n",
       "1  -332.003047\n",
       "2 -1111.535856\n",
       "3   292.620550\n",
       "4 -1052.343710"
      ]
     },
     "execution_count": 93,
     "metadata": {},
     "output_type": "execute_result"
    }
   ],
   "source": [
    "df_new.head()"
   ]
  },
  {
   "cell_type": "code",
   "execution_count": 94,
   "id": "0fd3ca7a",
   "metadata": {},
   "outputs": [],
   "source": [
    "from sklearn.model_selection import train_test_split\n",
    "from sklearn.linear_model import LogisticRegression"
   ]
  },
  {
   "cell_type": "code",
   "execution_count": 106,
   "id": "62704d21",
   "metadata": {},
   "outputs": [],
   "source": [
    "x_train , x_test , y_train , y_test = train_test_split(df_new,y,test_size=0.1,random_state = 1)"
   ]
  },
  {
   "cell_type": "code",
   "execution_count": 107,
   "id": "5af7b212",
   "metadata": {},
   "outputs": [
    {
     "data": {
      "text/plain": [
       "0    323\n",
       "1    189\n",
       "Name: diagnosis, dtype: int64"
      ]
     },
     "execution_count": 107,
     "metadata": {},
     "output_type": "execute_result"
    }
   ],
   "source": [
    "y_train.value_counts()"
   ]
  },
  {
   "cell_type": "code",
   "execution_count": 108,
   "id": "4c524409",
   "metadata": {},
   "outputs": [
    {
     "data": {
      "text/plain": [
       "LogisticRegression()"
      ]
     },
     "execution_count": 108,
     "metadata": {},
     "output_type": "execute_result"
    }
   ],
   "source": [
    "model = LogisticRegression()\n",
    "model.fit(x_train,y_train)\n"
   ]
  },
  {
   "cell_type": "code",
   "execution_count": 109,
   "id": "52c05170",
   "metadata": {},
   "outputs": [],
   "source": [
    "y_pred = model.predict(x_test)"
   ]
  },
  {
   "cell_type": "code",
   "execution_count": 110,
   "id": "feb882d0",
   "metadata": {},
   "outputs": [
    {
     "data": {
      "text/plain": [
       "0.8421052631578947"
      ]
     },
     "execution_count": 110,
     "metadata": {},
     "output_type": "execute_result"
    }
   ],
   "source": [
    "model.score(x_test,y_test)"
   ]
  }
 ],
 "metadata": {
  "kernelspec": {
   "display_name": "Python 3 (ipykernel)",
   "language": "python",
   "name": "python3"
  },
  "language_info": {
   "codemirror_mode": {
    "name": "ipython",
    "version": 3
   },
   "file_extension": ".py",
   "mimetype": "text/x-python",
   "name": "python",
   "nbconvert_exporter": "python",
   "pygments_lexer": "ipython3",
   "version": "3.9.12"
  }
 },
 "nbformat": 4,
 "nbformat_minor": 5
}
